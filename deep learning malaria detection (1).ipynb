{
 "cells": [
  {
   "cell_type": "markdown",
   "id": "0e026cd3",
   "metadata": {},
   "source": [
    "# Detection of Malaria 🦟🦠\n",
    "\n",
    "**INTRODUCTION**\n",
    "\n",
    "Malaria is a life-threatening disease. It’s typically transmitted through the bite of an infected anopheles mosquito. Infected mosquitoes carry the plasmodium parasite. When this mosquito bites you, the parasite is released into your bloodstream. It is considered as an endemic in many parts of the world.\n",
    "\n",
    "Malaria detection is performed by examining a drop of the patient’s blood, spread out as a “blood smear” (red blood cell) on a microscope slide. This blog focuses on improving malaria detection from such patches segmented from the microscopic images of blood smears by introducing a deep convolutional neural network. Compared to the traditional methods that use tedious hand engineering feature extraction, the proposed method uses deep learning in an end-to-end arrangement that performs both feature extraction and classification directly from the raw segmented patches of the red blood smears.\n",
    "\n",
    "**Risk Factor:**\n",
    "\n",
    "Malaria is commonly associated with poverty and has a major negative effect on economic development. In Africa, it is estimated to result in losses of US$12 billion a year due to increased healthcare costs, lost ability to work, and negative effects on tourism.\n",
    "\n",
    "**Symptoms of Malaria**\n",
    "\n",
    "A malaria infection is generally characterized by the following signs and symptoms:\n",
    "\n",
    "*Fever\n",
    "\n",
    "*Chills\n",
    "\n",
    "*Headache\n",
    "\n",
    "*Nausea and vomiting\n",
    "\n",
    "*Muscle pain and fatigue\n",
    "\n",
    "Other signs and symptoms may include:\n",
    "\n",
    "*Sweating\n",
    "\n",
    "*Chest or abdominal pain\n",
    "\n",
    "*Cough\n",
    "\n",
    "**How is Malaria diagnosed by pathologists?**\n",
    "\n",
    "Typically Malaria is diagnosed by microscopic examination of blood cells under the supervision of a pathologist. Red blood cells are examined using a microscope using blood films. The pathologists tries to find evidence of Malaria using past domain knowledge. Typically, when a cell is infected with Malaria one can see distorted cell shapes which are also accompanied by certain blunt spots in the cell.\n",
    "\n",
    "**PROBLEM STATEMENT**\n",
    "\n",
    "For malaria as well as other microbial infections, manual inspection of thick and thin blood smears by trained microscopists remains the gold standard for parasite detection and stage determination because of its low reagent and instrument cost and high flexibility. Despite manual inspection being extremely low throughput and susceptible to human bias, automatic counting software remains largely unused because of the wide range of variations in brightfield microscopy images. However, a robust automatic counting and cell classification solution would provide enormous benefits due to faster and more accurate quantitative results without human variability; researchers and medical professionals could better characterize stage-specific drug targets and better quantify patient reactions to drugs.\n",
    "\n",
    "**Information about the dataset.**\n",
    "\n",
    "The dataset is downloaded from Kaggle from this link — https://www.kaggle.com/iarunava/cell-images-for-detecting-malaria. The dataset was originally taken from the NIH website and uploaded to a Kaggle repository. The dataset contains 27558 cell images. Out of these 27558 images, we have 13779 cell images which are infected by Malaria and an other 13779 images which are uninfected."
   ]
  },
  {
   "cell_type": "markdown",
   "id": "5315e387",
   "metadata": {},
   "source": [
    "# **Creating CNN using scratch and Transfer Learning**"
   ]
  },
  {
   "cell_type": "markdown",
   "id": "03297729",
   "metadata": {},
   "source": [
    "# Loading the data"
   ]
  },
  {
   "cell_type": "code",
   "execution_count": 1,
   "id": "bcad16a0",
   "metadata": {},
   "outputs": [],
   "source": [
    "from tensorflow.keras.layers import Input, Lambda, Dense, Flatten\n",
    "from tensorflow.keras.models import Model\n",
    "from tensorflow.keras.applications.vgg19 import VGG19\n",
    "#from keras.applications.vgg19 import VGG19\n",
    "from tensorflow.keras.applications.resnet50 import preprocess_input\n",
    "from tensorflow.keras.preprocessing import image\n",
    "from tensorflow.keras.preprocessing.image import ImageDataGenerator,load_img\n",
    "from tensorflow.keras.models import Sequential\n",
    "import numpy as np\n",
    "from glob import glob\n",
    "import matplotlib.pyplot as plt"
   ]
  },
  {
   "cell_type": "code",
   "execution_count": 1,
   "id": "f1ea7ca6",
   "metadata": {},
   "outputs": [],
   "source": [
    "#VGGG19 is used as transfer learning model VGG19 gives more accuracy than VGG16 and resenet50"
   ]
  },
  {
   "cell_type": "code",
   "execution_count": 2,
   "id": "cbdaa4c5",
   "metadata": {},
   "outputs": [
    {
     "name": "stdout",
     "output_type": "stream",
     "text": [
      "2.9.1\n"
     ]
    }
   ],
   "source": [
    "import tensorflow as tf\n",
    "print(tf.__version__)"
   ]
  },
  {
   "cell_type": "code",
   "execution_count": 3,
   "id": "d3089687",
   "metadata": {},
   "outputs": [],
   "source": [
    "# re-size all the images to this\n",
    "IMAGE_SIZE = [224, 224]\n",
    "\n",
    "train_path = 'Datasets/train'\n",
    "valid_path = 'Datasets/test'"
   ]
  },
  {
   "cell_type": "code",
   "execution_count": 4,
   "id": "837b1855",
   "metadata": {},
   "outputs": [],
   "source": [
    "# Import the Vgg 19 library as shown below and add preprocessing layer to the front of VGG\n",
    "# Here we will be using imagenet weights\n",
    "\n",
    "vgg19 = VGG19(input_shape=IMAGE_SIZE + [3], weights='imagenet', include_top=False)"
   ]
  },
  {
   "cell_type": "code",
   "execution_count": 5,
   "id": "c0161358",
   "metadata": {},
   "outputs": [
    {
     "name": "stdout",
     "output_type": "stream",
     "text": [
      "Model: \"vgg19\"\n",
      "_________________________________________________________________\n",
      " Layer (type)                Output Shape              Param #   \n",
      "=================================================================\n",
      " input_1 (InputLayer)        [(None, 224, 224, 3)]     0         \n",
      "                                                                 \n",
      " block1_conv1 (Conv2D)       (None, 224, 224, 64)      1792      \n",
      "                                                                 \n",
      " block1_conv2 (Conv2D)       (None, 224, 224, 64)      36928     \n",
      "                                                                 \n",
      " block1_pool (MaxPooling2D)  (None, 112, 112, 64)      0         \n",
      "                                                                 \n",
      " block2_conv1 (Conv2D)       (None, 112, 112, 128)     73856     \n",
      "                                                                 \n",
      " block2_conv2 (Conv2D)       (None, 112, 112, 128)     147584    \n",
      "                                                                 \n",
      " block2_pool (MaxPooling2D)  (None, 56, 56, 128)       0         \n",
      "                                                                 \n",
      " block3_conv1 (Conv2D)       (None, 56, 56, 256)       295168    \n",
      "                                                                 \n",
      " block3_conv2 (Conv2D)       (None, 56, 56, 256)       590080    \n",
      "                                                                 \n",
      " block3_conv3 (Conv2D)       (None, 56, 56, 256)       590080    \n",
      "                                                                 \n",
      " block3_conv4 (Conv2D)       (None, 56, 56, 256)       590080    \n",
      "                                                                 \n",
      " block3_pool (MaxPooling2D)  (None, 28, 28, 256)       0         \n",
      "                                                                 \n",
      " block4_conv1 (Conv2D)       (None, 28, 28, 512)       1180160   \n",
      "                                                                 \n",
      " block4_conv2 (Conv2D)       (None, 28, 28, 512)       2359808   \n",
      "                                                                 \n",
      " block4_conv3 (Conv2D)       (None, 28, 28, 512)       2359808   \n",
      "                                                                 \n",
      " block4_conv4 (Conv2D)       (None, 28, 28, 512)       2359808   \n",
      "                                                                 \n",
      " block4_pool (MaxPooling2D)  (None, 14, 14, 512)       0         \n",
      "                                                                 \n",
      " block5_conv1 (Conv2D)       (None, 14, 14, 512)       2359808   \n",
      "                                                                 \n",
      " block5_conv2 (Conv2D)       (None, 14, 14, 512)       2359808   \n",
      "                                                                 \n",
      " block5_conv3 (Conv2D)       (None, 14, 14, 512)       2359808   \n",
      "                                                                 \n",
      " block5_conv4 (Conv2D)       (None, 14, 14, 512)       2359808   \n",
      "                                                                 \n",
      " block5_pool (MaxPooling2D)  (None, 7, 7, 512)         0         \n",
      "                                                                 \n",
      "=================================================================\n",
      "Total params: 20,024,384\n",
      "Trainable params: 20,024,384\n",
      "Non-trainable params: 0\n",
      "_________________________________________________________________\n"
     ]
    }
   ],
   "source": [
    "vgg19.summary()"
   ]
  },
  {
   "cell_type": "code",
   "execution_count": 6,
   "id": "e509cbab",
   "metadata": {},
   "outputs": [],
   "source": [
    "# don't train existing weights\n",
    "for layer in vgg19.layers:\n",
    "    layer.trainable = False"
   ]
  },
  {
   "cell_type": "code",
   "execution_count": 7,
   "id": "72ed8a86",
   "metadata": {},
   "outputs": [],
   "source": [
    " # useful for getting number of output classes\n",
    "folders = glob('Dataset/train/*')"
   ]
  },
  {
   "cell_type": "code",
   "execution_count": 8,
   "id": "20039af5",
   "metadata": {},
   "outputs": [
    {
     "data": {
      "text/plain": [
       "['Dataset/train\\\\Parasite', 'Dataset/train\\\\Uninfected']"
      ]
     },
     "execution_count": 8,
     "metadata": {},
     "output_type": "execute_result"
    }
   ],
   "source": [
    "folders"
   ]
  },
  {
   "cell_type": "code",
   "execution_count": 9,
   "id": "a4c36627",
   "metadata": {},
   "outputs": [],
   "source": [
    "# our layers - you can add more if you want\n",
    "x = Flatten()(vgg19.output)"
   ]
  },
  {
   "cell_type": "code",
   "execution_count": 10,
   "id": "9b58466b",
   "metadata": {},
   "outputs": [],
   "source": [
    "prediction = Dense(len(folders), activation='softmax')(x)\n",
    "\n",
    "# create a model object\n",
    "model = Model(inputs=vgg19.input, outputs=prediction)"
   ]
  },
  {
   "cell_type": "code",
   "execution_count": 11,
   "id": "15014636",
   "metadata": {},
   "outputs": [
    {
     "name": "stdout",
     "output_type": "stream",
     "text": [
      "Model: \"model\"\n",
      "_________________________________________________________________\n",
      " Layer (type)                Output Shape              Param #   \n",
      "=================================================================\n",
      " input_1 (InputLayer)        [(None, 224, 224, 3)]     0         \n",
      "                                                                 \n",
      " block1_conv1 (Conv2D)       (None, 224, 224, 64)      1792      \n",
      "                                                                 \n",
      " block1_conv2 (Conv2D)       (None, 224, 224, 64)      36928     \n",
      "                                                                 \n",
      " block1_pool (MaxPooling2D)  (None, 112, 112, 64)      0         \n",
      "                                                                 \n",
      " block2_conv1 (Conv2D)       (None, 112, 112, 128)     73856     \n",
      "                                                                 \n",
      " block2_conv2 (Conv2D)       (None, 112, 112, 128)     147584    \n",
      "                                                                 \n",
      " block2_pool (MaxPooling2D)  (None, 56, 56, 128)       0         \n",
      "                                                                 \n",
      " block3_conv1 (Conv2D)       (None, 56, 56, 256)       295168    \n",
      "                                                                 \n",
      " block3_conv2 (Conv2D)       (None, 56, 56, 256)       590080    \n",
      "                                                                 \n",
      " block3_conv3 (Conv2D)       (None, 56, 56, 256)       590080    \n",
      "                                                                 \n",
      " block3_conv4 (Conv2D)       (None, 56, 56, 256)       590080    \n",
      "                                                                 \n",
      " block3_pool (MaxPooling2D)  (None, 28, 28, 256)       0         \n",
      "                                                                 \n",
      " block4_conv1 (Conv2D)       (None, 28, 28, 512)       1180160   \n",
      "                                                                 \n",
      " block4_conv2 (Conv2D)       (None, 28, 28, 512)       2359808   \n",
      "                                                                 \n",
      " block4_conv3 (Conv2D)       (None, 28, 28, 512)       2359808   \n",
      "                                                                 \n",
      " block4_conv4 (Conv2D)       (None, 28, 28, 512)       2359808   \n",
      "                                                                 \n",
      " block4_pool (MaxPooling2D)  (None, 14, 14, 512)       0         \n",
      "                                                                 \n",
      " block5_conv1 (Conv2D)       (None, 14, 14, 512)       2359808   \n",
      "                                                                 \n",
      " block5_conv2 (Conv2D)       (None, 14, 14, 512)       2359808   \n",
      "                                                                 \n",
      " block5_conv3 (Conv2D)       (None, 14, 14, 512)       2359808   \n",
      "                                                                 \n",
      " block5_conv4 (Conv2D)       (None, 14, 14, 512)       2359808   \n",
      "                                                                 \n",
      " block5_pool (MaxPooling2D)  (None, 7, 7, 512)         0         \n",
      "                                                                 \n",
      " flatten (Flatten)           (None, 25088)             0         \n",
      "                                                                 \n",
      " dense (Dense)               (None, 2)                 50178     \n",
      "                                                                 \n",
      "=================================================================\n",
      "Total params: 20,074,562\n",
      "Trainable params: 50,178\n",
      "Non-trainable params: 20,024,384\n",
      "_________________________________________________________________\n"
     ]
    }
   ],
   "source": [
    "model.summary()"
   ]
  },
  {
   "cell_type": "code",
   "execution_count": 12,
   "id": "2400a968",
   "metadata": {},
   "outputs": [],
   "source": [
    "from tensorflow.keras.layers import MaxPooling2D\n",
    "from keras.layers import Conv2D, MaxPooling2D"
   ]
  },
  {
   "cell_type": "code",
   "execution_count": 13,
   "id": "e588bb6b",
   "metadata": {},
   "outputs": [
    {
     "name": "stdout",
     "output_type": "stream",
     "text": [
      "Model: \"sequential\"\n",
      "_________________________________________________________________\n",
      " Layer (type)                Output Shape              Param #   \n",
      "=================================================================\n",
      " conv2d (Conv2D)             (None, 224, 224, 16)      208       \n",
      "                                                                 \n",
      " max_pooling2d (MaxPooling2D  (None, 112, 112, 16)     0         \n",
      " )                                                               \n",
      "                                                                 \n",
      " conv2d_1 (Conv2D)           (None, 112, 112, 32)      2080      \n",
      "                                                                 \n",
      " max_pooling2d_1 (MaxPooling  (None, 56, 56, 32)       0         \n",
      " 2D)                                                             \n",
      "                                                                 \n",
      " conv2d_2 (Conv2D)           (None, 56, 56, 64)        8256      \n",
      "                                                                 \n",
      " max_pooling2d_2 (MaxPooling  (None, 28, 28, 64)       0         \n",
      " 2D)                                                             \n",
      "                                                                 \n",
      " flatten_1 (Flatten)         (None, 50176)             0         \n",
      "                                                                 \n",
      " dense_1 (Dense)             (None, 500)               25088500  \n",
      "                                                                 \n",
      " dense_2 (Dense)             (None, 2)                 1002      \n",
      "                                                                 \n",
      "=================================================================\n",
      "Total params: 25,100,046\n",
      "Trainable params: 25,100,046\n",
      "Non-trainable params: 0\n",
      "_________________________________________________________________\n"
     ]
    }
   ],
   "source": [
    "### Create Model from scratch using CNN\n",
    "model=Sequential()\n",
    "model.add(Conv2D(filters=16,kernel_size=2,padding=\"same\",activation=\"relu\",input_shape=(224,224,3)))\n",
    "model.add(MaxPooling2D(pool_size=2))\n",
    "model.add(Conv2D(filters=32,kernel_size=2,padding=\"same\",activation =\"relu\"))\n",
    "model.add(MaxPooling2D(pool_size=2))\n",
    "model.add(Conv2D(filters=64,kernel_size=2,padding=\"same\",activation=\"relu\"))\n",
    "model.add(MaxPooling2D(pool_size=2))\n",
    "model.add(Flatten())\n",
    "model.add(Dense(500,activation=\"relu\"))\n",
    "model.add(Dense(2,activation=\"softmax\"))\n",
    "model.summary()"
   ]
  },
  {
   "cell_type": "code",
   "execution_count": 14,
   "id": "cd62c0f8",
   "metadata": {},
   "outputs": [],
   "source": [
    "# tell the model what cost and optimization method to use\n",
    "model.compile(\n",
    "  loss='categorical_crossentropy',\n",
    "  optimizer='adam',\n",
    "  metrics=['accuracy']\n",
    ")"
   ]
  },
  {
   "cell_type": "code",
   "execution_count": 15,
   "id": "1c832d0f",
   "metadata": {},
   "outputs": [],
   "source": [
    " # Use the Image Data Generator to import the images from the dataset\n",
    "from tensorflow.keras.preprocessing.image import ImageDataGenerator\n",
    "\n",
    "train_datagen = ImageDataGenerator(rescale = 1./255,\n",
    "                                   shear_range = 0.2,\n",
    "                                   zoom_range = 0.2,\n",
    "                                   horizontal_flip = True)\n",
    "\n",
    "test_datagen = ImageDataGenerator(rescale = 1./255)"
   ]
  },
  {
   "cell_type": "code",
   "execution_count": 17,
   "id": "e4aefde8",
   "metadata": {},
   "outputs": [
    {
     "name": "stdout",
     "output_type": "stream",
     "text": [
      "Found 416 images belonging to 2 classes.\n"
     ]
    }
   ],
   "source": [
    "# Make sure you provide the same target size as initialied for the image size\n",
    "training_set = train_datagen.flow_from_directory('Dataset/Train',\n",
    "                                                 target_size = (224, 224),\n",
    "                                                 batch_size = 32,\n",
    "                                                 class_mode = 'categorical')"
   ]
  },
  {
   "cell_type": "code",
   "execution_count": 18,
   "id": "db735b63",
   "metadata": {},
   "outputs": [
    {
     "data": {
      "text/plain": [
       "<keras.preprocessing.image.DirectoryIterator at 0x25cf2588550>"
      ]
     },
     "execution_count": 18,
     "metadata": {},
     "output_type": "execute_result"
    }
   ],
   "source": [
    "training_set"
   ]
  },
  {
   "cell_type": "code",
   "execution_count": 19,
   "id": "f53747f4",
   "metadata": {},
   "outputs": [
    {
     "name": "stdout",
     "output_type": "stream",
     "text": [
      "Found 134 images belonging to 2 classes.\n"
     ]
    }
   ],
   "source": [
    "test_set = test_datagen.flow_from_directory('Dataset/Test',\n",
    "                                            target_size = (224, 224),\n",
    "                                            batch_size = 32,\n",
    "                                            class_mode = 'categorical')"
   ]
  },
  {
   "cell_type": "code",
   "execution_count": 22,
   "id": "5bff2b57",
   "metadata": {},
   "outputs": [
    {
     "name": "stderr",
     "output_type": "stream",
     "text": [
      "C:\\Users\\ROGZEP~1\\AppData\\Local\\Temp/ipykernel_12748/2987964121.py:3: UserWarning: `Model.fit_generator` is deprecated and will be removed in a future version. Please use `Model.fit`, which supports generators.\n",
      "  r = model.fit_generator(\n"
     ]
    },
    {
     "name": "stdout",
     "output_type": "stream",
     "text": [
      "Epoch 1/50\n",
      "13/13 [==============================] - 12s 909ms/step - loss: 2.5079 - accuracy: 0.5721 - val_loss: 0.9615 - val_accuracy: 0.3955\n",
      "Epoch 2/50\n",
      "13/13 [==============================] - 9s 648ms/step - loss: 0.6901 - accuracy: 0.5673 - val_loss: 0.7901 - val_accuracy: 0.3881\n",
      "Epoch 3/50\n",
      "13/13 [==============================] - 9s 660ms/step - loss: 0.5817 - accuracy: 0.7043 - val_loss: 0.6994 - val_accuracy: 0.5000\n",
      "Epoch 4/50\n",
      "13/13 [==============================] - 9s 646ms/step - loss: 0.5351 - accuracy: 0.7236 - val_loss: 0.7981 - val_accuracy: 0.3955\n",
      "Epoch 5/50\n",
      "13/13 [==============================] - 9s 652ms/step - loss: 0.4959 - accuracy: 0.7476 - val_loss: 0.7311 - val_accuracy: 0.6119\n",
      "Epoch 6/50\n",
      "13/13 [==============================] - 9s 656ms/step - loss: 0.4631 - accuracy: 0.7909 - val_loss: 0.6946 - val_accuracy: 0.5597\n",
      "Epoch 7/50\n",
      "13/13 [==============================] - 9s 665ms/step - loss: 0.3862 - accuracy: 0.8293 - val_loss: 0.8631 - val_accuracy: 0.5299\n",
      "Epoch 8/50\n",
      "13/13 [==============================] - 9s 658ms/step - loss: 0.3700 - accuracy: 0.8606 - val_loss: 0.5806 - val_accuracy: 0.6642\n",
      "Epoch 9/50\n",
      "13/13 [==============================] - 9s 657ms/step - loss: 0.3066 - accuracy: 0.8846 - val_loss: 0.6764 - val_accuracy: 0.6269\n",
      "Epoch 10/50\n",
      "13/13 [==============================] - 9s 658ms/step - loss: 0.2759 - accuracy: 0.8846 - val_loss: 0.4302 - val_accuracy: 0.7985\n",
      "Epoch 11/50\n",
      "13/13 [==============================] - 9s 662ms/step - loss: 0.2349 - accuracy: 0.9231 - val_loss: 0.5078 - val_accuracy: 0.7164\n",
      "Epoch 12/50\n",
      "13/13 [==============================] - 9s 707ms/step - loss: 0.1965 - accuracy: 0.9207 - val_loss: 0.4411 - val_accuracy: 0.7910\n",
      "Epoch 13/50\n",
      "13/13 [==============================] - 9s 688ms/step - loss: 0.1796 - accuracy: 0.9375 - val_loss: 0.4830 - val_accuracy: 0.7612\n",
      "Epoch 14/50\n",
      "13/13 [==============================] - 9s 704ms/step - loss: 0.1726 - accuracy: 0.9423 - val_loss: 0.3708 - val_accuracy: 0.8582\n",
      "Epoch 15/50\n",
      "13/13 [==============================] - 9s 704ms/step - loss: 0.1640 - accuracy: 0.9375 - val_loss: 0.2962 - val_accuracy: 0.8881\n",
      "Epoch 16/50\n",
      "13/13 [==============================] - 9s 706ms/step - loss: 0.1577 - accuracy: 0.9591 - val_loss: 0.4005 - val_accuracy: 0.8582\n",
      "Epoch 17/50\n",
      "13/13 [==============================] - 9s 671ms/step - loss: 0.1665 - accuracy: 0.9495 - val_loss: 0.3566 - val_accuracy: 0.8358\n",
      "Epoch 18/50\n",
      "13/13 [==============================] - 9s 691ms/step - loss: 0.1037 - accuracy: 0.9663 - val_loss: 0.3104 - val_accuracy: 0.8582\n",
      "Epoch 19/50\n",
      "13/13 [==============================] - 9s 683ms/step - loss: 0.1178 - accuracy: 0.9615 - val_loss: 0.2739 - val_accuracy: 0.9030\n",
      "Epoch 20/50\n",
      "13/13 [==============================] - 9s 675ms/step - loss: 0.1142 - accuracy: 0.9688 - val_loss: 0.2671 - val_accuracy: 0.9104\n",
      "Epoch 21/50\n",
      "13/13 [==============================] - 9s 672ms/step - loss: 0.1071 - accuracy: 0.9615 - val_loss: 0.3223 - val_accuracy: 0.8433\n",
      "Epoch 22/50\n",
      "13/13 [==============================] - 9s 677ms/step - loss: 0.1171 - accuracy: 0.9543 - val_loss: 0.2317 - val_accuracy: 0.9254\n",
      "Epoch 23/50\n",
      "13/13 [==============================] - 9s 682ms/step - loss: 0.0983 - accuracy: 0.9760 - val_loss: 0.3673 - val_accuracy: 0.8582\n",
      "Epoch 24/50\n",
      "13/13 [==============================] - 10s 744ms/step - loss: 0.1065 - accuracy: 0.9639 - val_loss: 0.2354 - val_accuracy: 0.9254\n",
      "Epoch 25/50\n",
      "13/13 [==============================] - 9s 688ms/step - loss: 0.0919 - accuracy: 0.9808 - val_loss: 0.3861 - val_accuracy: 0.8358\n",
      "Epoch 26/50\n",
      "13/13 [==============================] - 9s 667ms/step - loss: 0.1261 - accuracy: 0.9567 - val_loss: 0.6501 - val_accuracy: 0.7164\n",
      "Epoch 27/50\n",
      "13/13 [==============================] - 9s 693ms/step - loss: 0.1214 - accuracy: 0.9567 - val_loss: 0.2225 - val_accuracy: 0.9328\n",
      "Epoch 28/50\n",
      "13/13 [==============================] - 9s 672ms/step - loss: 0.0975 - accuracy: 0.9736 - val_loss: 0.2456 - val_accuracy: 0.8955\n",
      "Epoch 29/50\n",
      "13/13 [==============================] - 9s 674ms/step - loss: 0.1069 - accuracy: 0.9615 - val_loss: 0.2981 - val_accuracy: 0.8731\n",
      "Epoch 30/50\n",
      "13/13 [==============================] - 9s 670ms/step - loss: 0.0962 - accuracy: 0.9784 - val_loss: 0.2456 - val_accuracy: 0.8881\n",
      "Epoch 31/50\n",
      "13/13 [==============================] - 9s 675ms/step - loss: 0.0760 - accuracy: 0.9736 - val_loss: 0.3579 - val_accuracy: 0.8507\n",
      "Epoch 32/50\n",
      "13/13 [==============================] - 9s 673ms/step - loss: 0.0764 - accuracy: 0.9736 - val_loss: 0.1983 - val_accuracy: 0.9179\n",
      "Epoch 33/50\n",
      "13/13 [==============================] - 9s 714ms/step - loss: 0.0756 - accuracy: 0.9760 - val_loss: 0.3079 - val_accuracy: 0.8657\n",
      "Epoch 34/50\n",
      "13/13 [==============================] - 9s 684ms/step - loss: 0.0667 - accuracy: 0.9856 - val_loss: 0.2515 - val_accuracy: 0.8806\n",
      "Epoch 35/50\n",
      "13/13 [==============================] - 9s 716ms/step - loss: 0.0536 - accuracy: 0.9856 - val_loss: 0.3095 - val_accuracy: 0.8881\n",
      "Epoch 36/50\n",
      "13/13 [==============================] - 9s 666ms/step - loss: 0.0617 - accuracy: 0.9832 - val_loss: 0.1994 - val_accuracy: 0.9328\n",
      "Epoch 37/50\n",
      "13/13 [==============================] - 9s 661ms/step - loss: 0.0529 - accuracy: 0.9856 - val_loss: 0.2759 - val_accuracy: 0.8806\n",
      "Epoch 38/50\n",
      "13/13 [==============================] - 9s 674ms/step - loss: 0.0545 - accuracy: 0.9856 - val_loss: 0.2335 - val_accuracy: 0.9104\n",
      "Epoch 39/50\n",
      "13/13 [==============================] - 9s 673ms/step - loss: 0.0355 - accuracy: 0.9880 - val_loss: 0.1785 - val_accuracy: 0.9403\n",
      "Epoch 40/50\n",
      "13/13 [==============================] - 9s 680ms/step - loss: 0.0516 - accuracy: 0.9808 - val_loss: 0.3060 - val_accuracy: 0.8955\n",
      "Epoch 41/50\n",
      "13/13 [==============================] - 9s 706ms/step - loss: 0.0449 - accuracy: 0.9904 - val_loss: 0.2020 - val_accuracy: 0.9403\n",
      "Epoch 42/50\n",
      "13/13 [==============================] - 9s 687ms/step - loss: 0.0825 - accuracy: 0.9736 - val_loss: 0.1767 - val_accuracy: 0.9403\n",
      "Epoch 43/50\n",
      "13/13 [==============================] - 9s 676ms/step - loss: 0.0563 - accuracy: 0.9808 - val_loss: 0.2921 - val_accuracy: 0.9030\n",
      "Epoch 44/50\n",
      "13/13 [==============================] - 9s 694ms/step - loss: 0.0508 - accuracy: 0.9880 - val_loss: 0.2384 - val_accuracy: 0.9104\n",
      "Epoch 45/50\n",
      "13/13 [==============================] - 9s 695ms/step - loss: 0.0330 - accuracy: 0.9880 - val_loss: 0.3976 - val_accuracy: 0.8806\n",
      "Epoch 46/50\n",
      "13/13 [==============================] - 10s 728ms/step - loss: 0.0625 - accuracy: 0.9880 - val_loss: 0.3852 - val_accuracy: 0.9030\n",
      "Epoch 47/50\n",
      "13/13 [==============================] - 9s 663ms/step - loss: 0.0381 - accuracy: 0.9856 - val_loss: 0.2204 - val_accuracy: 0.9328\n",
      "Epoch 48/50\n",
      "13/13 [==============================] - 9s 664ms/step - loss: 0.0304 - accuracy: 0.9856 - val_loss: 0.3415 - val_accuracy: 0.9030\n",
      "Epoch 49/50\n",
      "13/13 [==============================] - 9s 675ms/step - loss: 0.0149 - accuracy: 0.9976 - val_loss: 0.2524 - val_accuracy: 0.9403\n",
      "Epoch 50/50\n",
      "13/13 [==============================] - 9s 666ms/step - loss: 0.0447 - accuracy: 0.9880 - val_loss: 0.2437 - val_accuracy: 0.9403\n"
     ]
    }
   ],
   "source": [
    "# fit the model\n",
    "# Run the cell. It will take some time to execute\n",
    "r = model.fit_generator(\n",
    "  training_set,\n",
    "  validation_data=test_set,\n",
    "  epochs=50,\n",
    "  steps_per_epoch=len(training_set),\n",
    "  validation_steps=len(test_set))"
   ]
  },
  {
   "cell_type": "code",
   "execution_count": 23,
   "id": "1f806a56",
   "metadata": {},
   "outputs": [
    {
     "data": {
      "image/png": "[encoded data removed]",
      "text/plain": [
       "<Figure size 432x288 with 1 Axes>"
      ]
     },
     "metadata": {
      "needs_background": "light"
     },
     "output_type": "display_data"
    },
    {
     "data": {
      "image/png": "[encoded data removed]",
      "text/plain": [
       "<Figure size 432x288 with 1 Axes>"
      ]
     },
     "metadata": {
      "needs_background": "light"
     },
     "output_type": "display_data"
    },
    {
     "data": {
      "text/plain": [
       "<Figure size 432x288 with 0 Axes>"
      ]
     },
     "metadata": {},
     "output_type": "display_data"
    }
   ],
   "source": [
    "# plot the loss\n",
    "plt.plot(r.history['loss'], label='train loss')\n",
    "plt.plot(r.history['val_loss'], label='val loss')\n",
    "plt.legend()\n",
    "plt.show()\n",
    "plt.savefig('LossVal_loss')\n",
    "\n",
    "# plot the accuracy\n",
    "plt.plot(r.history['accuracy'], label='train acc')\n",
    "plt.plot(r.history['val_accuracy'], label='val acc')\n",
    "plt.legend()\n",
    "plt.show()\n",
    "plt.savefig('AccVal_acc')"
   ]
  },
  {
   "cell_type": "code",
   "execution_count": 24,
   "id": "e8cb0e70",
   "metadata": {},
   "outputs": [],
   "source": [
    "# save it as a h5 file\n",
    "\n",
    "\n",
    "from tensorflow.keras.models import load_model\n",
    "\n",
    "model.save('model_vgg19.h5')"
   ]
  },
  {
   "cell_type": "code",
   "execution_count": 25,
   "id": "83a3cede",
   "metadata": {},
   "outputs": [
    {
     "name": "stdout",
     "output_type": "stream",
     "text": [
      "5/5 [==============================] - 1s 101ms/step\n"
     ]
    }
   ],
   "source": [
    "y_pred = model.predict(test_set)"
   ]
  },
  {
   "cell_type": "code",
   "execution_count": 26,
   "id": "56bcdbf2",
   "metadata": {},
   "outputs": [
    {
     "data": {
      "text/plain": [
       "array([[9.99925375e-01, 7.46539081e-05],\n",
       "       [9.83449280e-01, 1.65507086e-02],\n",
       "       [9.76888835e-01, 2.31111180e-02],\n",
       "       [5.88543974e-02, 9.41145658e-01],\n",
       "       [9.93234217e-01, 6.76572137e-03],\n",
       "       [1.00000000e+00, 2.91301922e-13],\n",
       "       [9.96541321e-01, 3.45867523e-03],\n",
       "       [1.67398509e-02, 9.83260095e-01],\n",
       "       [1.00000000e+00, 2.30265477e-11],\n",
       "       [1.05507681e-02, 9.89449263e-01],\n",
       "       [9.99999762e-01, 2.23617675e-07],\n",
       "       [9.46278989e-01, 5.37210032e-02],\n",
       "       [9.96864855e-01, 3.13515775e-03],\n",
       "       [3.37317074e-03, 9.96626854e-01],\n",
       "       [9.99839425e-01, 1.60595737e-04],\n",
       "       [1.35799339e-02, 9.86420095e-01],\n",
       "       [1.34953875e-02, 9.86504614e-01],\n",
       "       [9.98336017e-01, 1.66405912e-03],\n",
       "       [9.99940395e-01, 5.95887941e-05],\n",
       "       [9.99990940e-01, 9.00209761e-06],\n",
       "       [2.23732628e-02, 9.77626681e-01],\n",
       "       [2.53704518e-01, 7.46295452e-01],\n",
       "       [9.99586999e-01, 4.13032336e-04],\n",
       "       [9.99984264e-01, 1.57580034e-05],\n",
       "       [3.62941742e-01, 6.37058198e-01],\n",
       "       [1.90603472e-02, 9.80939627e-01],\n",
       "       [4.01724577e-02, 9.59827602e-01],\n",
       "       [1.00000000e+00, 3.25375339e-12],\n",
       "       [4.54297923e-02, 9.54570174e-01],\n",
       "       [7.44216025e-01, 2.55783945e-01],\n",
       "       [7.61812270e-01, 2.38187775e-01],\n",
       "       [9.99993563e-01, 6.45998762e-06],\n",
       "       [9.99999881e-01, 1.51010497e-07],\n",
       "       [8.24939609e-01, 1.75060391e-01],\n",
       "       [3.99095900e-02, 9.60090458e-01],\n",
       "       [1.00000000e+00, 2.78992847e-08],\n",
       "       [2.42669601e-03, 9.97573316e-01],\n",
       "       [9.99027491e-01, 9.72546288e-04],\n",
       "       [9.99058425e-01, 9.41550999e-04],\n",
       "       [9.99048531e-01, 9.51464463e-04],\n",
       "       [9.99825418e-01, 1.74632747e-04],\n",
       "       [9.99995232e-01, 4.82566111e-06],\n",
       "       [9.38573539e-01, 6.14265017e-02],\n",
       "       [1.41016496e-02, 9.85898376e-01],\n",
       "       [9.99687910e-01, 3.12074437e-04],\n",
       "       [1.03690960e-02, 9.89630878e-01],\n",
       "       [4.00688589e-01, 5.99311411e-01],\n",
       "       [8.02375302e-02, 9.19762433e-01],\n",
       "       [9.99938011e-01, 6.20368883e-05],\n",
       "       [9.99833703e-01, 1.66251382e-04],\n",
       "       [1.14690503e-02, 9.88530874e-01],\n",
       "       [1.00000000e+00, 1.40853951e-09],\n",
       "       [9.99999762e-01, 2.23285880e-07],\n",
       "       [9.99999762e-01, 2.53241041e-07],\n",
       "       [9.96837854e-01, 3.16216052e-03],\n",
       "       [4.16685408e-03, 9.95833218e-01],\n",
       "       [5.24047852e-01, 4.75952208e-01],\n",
       "       [1.01637743e-01, 8.98362279e-01],\n",
       "       [9.99999881e-01, 1.52721370e-07],\n",
       "       [7.38297729e-03, 9.92616951e-01],\n",
       "       [7.42701143e-02, 9.25729930e-01],\n",
       "       [9.36143935e-01, 6.38560951e-02],\n",
       "       [9.99830723e-01, 1.69220730e-04],\n",
       "       [9.99868751e-01, 1.31287321e-04],\n",
       "       [3.38445343e-02, 9.66155469e-01],\n",
       "       [3.44761126e-02, 9.65523899e-01],\n",
       "       [2.76442221e-03, 9.97235596e-01],\n",
       "       [9.17627709e-04, 9.99082327e-01],\n",
       "       [9.99830484e-01, 1.69489431e-04],\n",
       "       [1.00000000e+00, 4.45954962e-09],\n",
       "       [1.15847366e-03, 9.98841584e-01],\n",
       "       [4.82647307e-03, 9.95173514e-01],\n",
       "       [9.99417305e-01, 5.82756184e-04],\n",
       "       [9.99998212e-01, 1.83689201e-06],\n",
       "       [7.35365868e-01, 2.64634162e-01],\n",
       "       [1.00000000e+00, 7.81542139e-15],\n",
       "       [9.99872088e-01, 1.27883875e-04],\n",
       "       [9.99977350e-01, 2.26613720e-05],\n",
       "       [3.79875042e-02, 9.62012410e-01],\n",
       "       [7.31865466e-02, 9.26813424e-01],\n",
       "       [3.22943367e-02, 9.67705667e-01],\n",
       "       [9.97272789e-01, 2.72720843e-03],\n",
       "       [1.00000000e+00, 1.45950266e-11],\n",
       "       [9.99890804e-01, 1.09206179e-04],\n",
       "       [2.79140472e-02, 9.72085953e-01],\n",
       "       [3.99605222e-02, 9.60039496e-01],\n",
       "       [9.99717772e-01, 2.82176625e-04],\n",
       "       [1.69308320e-01, 8.30691695e-01],\n",
       "       [9.99999642e-01, 3.93231090e-07],\n",
       "       [9.99997854e-01, 2.19585831e-06],\n",
       "       [4.05568210e-03, 9.95944321e-01],\n",
       "       [9.99965668e-01, 3.43487845e-05],\n",
       "       [9.99718964e-01, 2.80978740e-04],\n",
       "       [1.17843400e-03, 9.98821557e-01],\n",
       "       [9.98946846e-01, 1.05322013e-03],\n",
       "       [5.45678195e-03, 9.94543195e-01],\n",
       "       [6.31880620e-03, 9.93681192e-01],\n",
       "       [9.99639750e-01, 3.60266713e-04],\n",
       "       [4.71589342e-02, 9.52841103e-01],\n",
       "       [9.99243736e-01, 7.56293419e-04],\n",
       "       [8.63951504e-01, 1.36048511e-01],\n",
       "       [9.72140133e-01, 2.78598908e-02],\n",
       "       [9.99620795e-01, 3.79144651e-04],\n",
       "       [3.64649459e-03, 9.96353507e-01],\n",
       "       [3.67623270e-02, 9.63237703e-01],\n",
       "       [5.98737657e-01, 4.01262343e-01],\n",
       "       [9.99720395e-01, 2.79575848e-04],\n",
       "       [9.99868274e-01, 1.31698951e-04],\n",
       "       [9.77829516e-01, 2.21704710e-02],\n",
       "       [9.99993205e-01, 6.80289077e-06],\n",
       "       [2.03108648e-03, 9.97968853e-01],\n",
       "       [1.66532993e-02, 9.83346701e-01],\n",
       "       [9.99269545e-01, 7.30504456e-04],\n",
       "       [9.99847054e-01, 1.52863620e-04],\n",
       "       [1.19132819e-02, 9.88086700e-01],\n",
       "       [9.99688745e-01, 3.11238342e-04],\n",
       "       [9.99567568e-01, 4.32377070e-04],\n",
       "       [9.99115169e-01, 8.84768961e-04],\n",
       "       [9.99630690e-01, 3.69347137e-04],\n",
       "       [9.99989390e-01, 1.06366970e-05],\n",
       "       [3.71981114e-01, 6.28018916e-01],\n",
       "       [3.61804575e-01, 6.38195455e-01],\n",
       "       [9.99679804e-01, 3.20260413e-04],\n",
       "       [2.13989839e-02, 9.78601038e-01],\n",
       "       [1.00000000e+00, 1.45444163e-08],\n",
       "       [9.99533653e-01, 4.66373953e-04],\n",
       "       [1.01895053e-02, 9.89810467e-01],\n",
       "       [9.99841928e-01, 1.58029448e-04],\n",
       "       [9.99386191e-01, 6.13785407e-04],\n",
       "       [7.32330084e-02, 9.26766992e-01],\n",
       "       [1.12673063e-02, 9.88732696e-01],\n",
       "       [9.99983668e-01, 1.63122077e-05],\n",
       "       [9.99222398e-01, 7.77548645e-04],\n",
       "       [9.99998450e-01, 1.60027264e-06]], dtype=float32)"
      ]
     },
     "execution_count": 26,
     "metadata": {},
     "output_type": "execute_result"
    }
   ],
   "source": [
    "y_pred"
   ]
  },
  {
   "cell_type": "code",
   "execution_count": 27,
   "id": "f5d83443",
   "metadata": {},
   "outputs": [],
   "source": [
    "import numpy as np\n",
    "y_pred = np.argmax(y_pred, axis=1)"
   ]
  },
  {
   "cell_type": "code",
   "execution_count": 28,
   "id": "c928e67a",
   "metadata": {},
   "outputs": [
    {
     "data": {
      "text/plain": [
       "array([0, 0, 0, 1, 0, 0, 0, 1, 0, 1, 0, 0, 0, 1, 0, 1, 1, 0, 0, 0, 1, 1,\n",
       "       0, 0, 1, 1, 1, 0, 1, 0, 0, 0, 0, 0, 1, 0, 1, 0, 0, 0, 0, 0, 0, 1,\n",
       "       0, 1, 1, 1, 0, 0, 1, 0, 0, 0, 0, 1, 0, 1, 0, 1, 1, 0, 0, 0, 1, 1,\n",
       "       1, 1, 0, 0, 1, 1, 0, 0, 0, 0, 0, 0, 1, 1, 1, 0, 0, 0, 1, 1, 0, 1,\n",
       "       0, 0, 1, 0, 0, 1, 0, 1, 1, 0, 1, 0, 0, 0, 0, 1, 1, 0, 0, 0, 0, 0,\n",
       "       1, 1, 0, 0, 1, 0, 0, 0, 0, 0, 1, 1, 0, 1, 0, 0, 1, 0, 0, 1, 1, 0,\n",
       "       0, 0], dtype=int64)"
      ]
     },
     "execution_count": 28,
     "metadata": {},
     "output_type": "execute_result"
    }
   ],
   "source": [
    "y_pred"
   ]
  },
  {
   "cell_type": "code",
   "execution_count": 29,
   "id": "76ace98c",
   "metadata": {},
   "outputs": [],
   "source": [
    "from tensorflow.keras.models import load_model\n",
    "from tensorflow.keras.preprocessing import image"
   ]
  },
  {
   "cell_type": "code",
   "execution_count": 30,
   "id": "7461dba9",
   "metadata": {},
   "outputs": [],
   "source": [
    "model=load_model('model_vgg19.h5')"
   ]
  },
  {
   "cell_type": "code",
   "execution_count": 31,
   "id": "98281126",
   "metadata": {},
   "outputs": [
    {
     "data": {
      "text/plain": [
       "<keras.engine.sequential.Sequential at 0x25c8b3d8430>"
      ]
     },
     "execution_count": 31,
     "metadata": {},
     "output_type": "execute_result"
    }
   ],
   "source": [
    "model"
   ]
  },
  {
   "cell_type": "code",
   "execution_count": 32,
   "id": "d4820ac5",
   "metadata": {},
   "outputs": [],
   "source": [
    "img=image.load_img('Dataset/Test/Uninfected/2.png',target_size=(224,224))"
   ]
  },
  {
   "cell_type": "code",
   "execution_count": 33,
   "id": "87a9b1d1",
   "metadata": {},
   "outputs": [
    {
     "data": {
      "image/png": "[encoded data removed]",
      "text/plain": [
       "<PIL.Image.Image image mode=RGB size=224x224 at 0x25CF25BA7F0>"
      ]
     },
     "execution_count": 33,
     "metadata": {},
     "output_type": "execute_result"
    }
   ],
   "source": [
    "img"
   ]
  },
  {
   "cell_type": "code",
   "execution_count": 34,
   "id": "57af2caa",
   "metadata": {},
   "outputs": [
    {
     "data": {
      "text/plain": [
       "array([[[0., 0., 0.],\n",
       "        [0., 0., 0.],\n",
       "        [0., 0., 0.],\n",
       "        ...,\n",
       "        [0., 0., 0.],\n",
       "        [0., 0., 0.],\n",
       "        [0., 0., 0.]],\n",
       "\n",
       "       [[0., 0., 0.],\n",
       "        [0., 0., 0.],\n",
       "        [0., 0., 0.],\n",
       "        ...,\n",
       "        [0., 0., 0.],\n",
       "        [0., 0., 0.],\n",
       "        [0., 0., 0.]],\n",
       "\n",
       "       [[0., 0., 0.],\n",
       "        [0., 0., 0.],\n",
       "        [0., 0., 0.],\n",
       "        ...,\n",
       "        [0., 0., 0.],\n",
       "        [0., 0., 0.],\n",
       "        [0., 0., 0.]],\n",
       "\n",
       "       ...,\n",
       "\n",
       "       [[0., 0., 0.],\n",
       "        [0., 0., 0.],\n",
       "        [0., 0., 0.],\n",
       "        ...,\n",
       "        [0., 0., 0.],\n",
       "        [0., 0., 0.],\n",
       "        [0., 0., 0.]],\n",
       "\n",
       "       [[0., 0., 0.],\n",
       "        [0., 0., 0.],\n",
       "        [0., 0., 0.],\n",
       "        ...,\n",
       "        [0., 0., 0.],\n",
       "        [0., 0., 0.],\n",
       "        [0., 0., 0.]],\n",
       "\n",
       "       [[0., 0., 0.],\n",
       "        [0., 0., 0.],\n",
       "        [0., 0., 0.],\n",
       "        ...,\n",
       "        [0., 0., 0.],\n",
       "        [0., 0., 0.],\n",
       "        [0., 0., 0.]]], dtype=float32)"
      ]
     },
     "execution_count": 34,
     "metadata": {},
     "output_type": "execute_result"
    }
   ],
   "source": [
    "x=image.img_to_array(img)\n",
    "x"
   ]
  },
  {
   "cell_type": "code",
   "execution_count": 35,
   "id": "b9a9e4d2",
   "metadata": {},
   "outputs": [
    {
     "data": {
      "text/plain": [
       "(224, 224, 3)"
      ]
     },
     "execution_count": 35,
     "metadata": {},
     "output_type": "execute_result"
    }
   ],
   "source": [
    "x.shape"
   ]
  },
  {
   "cell_type": "code",
   "execution_count": 36,
   "id": "8430ccd3",
   "metadata": {},
   "outputs": [],
   "source": [
    "x=x/255"
   ]
  },
  {
   "cell_type": "code",
   "execution_count": 37,
   "id": "825ec8ac",
   "metadata": {},
   "outputs": [
    {
     "data": {
      "text/plain": [
       "(1, 224, 224, 3)"
      ]
     },
     "execution_count": 37,
     "metadata": {},
     "output_type": "execute_result"
    }
   ],
   "source": [
    "x=np.expand_dims(x,axis=0)\n",
    "img_data=preprocess_input(x)\n",
    "img_data.shape"
   ]
  },
  {
   "cell_type": "code",
   "execution_count": 38,
   "id": "43892bb4",
   "metadata": {},
   "outputs": [
    {
     "name": "stdout",
     "output_type": "stream",
     "text": [
      "1/1 [==============================] - 0s 102ms/step\n"
     ]
    },
    {
     "data": {
      "text/plain": [
       "array([[0., 1.]], dtype=float32)"
      ]
     },
     "execution_count": 38,
     "metadata": {},
     "output_type": "execute_result"
    }
   ],
   "source": [
    "model.predict(img_data)"
   ]
  },
  {
   "cell_type": "code",
   "execution_count": 39,
   "id": "8ffe2c0f",
   "metadata": {},
   "outputs": [
    {
     "name": "stdout",
     "output_type": "stream",
     "text": [
      "1/1 [==============================] - 0s 45ms/step\n"
     ]
    }
   ],
   "source": [
    "a=np.argmax(model.predict(img_data), axis=1)"
   ]
  },
  {
   "cell_type": "code",
   "execution_count": 40,
   "id": "d70c2a85",
   "metadata": {},
   "outputs": [
    {
     "name": "stdout",
     "output_type": "stream",
     "text": [
      "Uninfected\n"
     ]
    }
   ],
   "source": [
    "if(a==1):\n",
    "    print(\"Uninfected\")\n",
    "else:\n",
    "    print(\"Infected\")"
   ]
  },
  {
   "cell_type": "markdown",
   "id": "fe87ba1a",
   "metadata": {},
   "source": [
    "# **Conclusion**"
   ]
  },
  {
   "cell_type": "markdown",
   "id": "730219d0",
   "metadata": {},
   "source": [
    "*Transfer learning significantly increases the classification performance we have got validation accuracy of 94% for the model\n",
    "\n",
    "*By using VGG16,Resenet50 and VGG19 we found VGG19 gives more accuracy\n",
    "\n",
    "*Here VGG19 is used as the transfer learning technique\n",
    "\n",
    "*The project is done with the purpose of finding out,whether the person is infected by Malaria disease or not.we create cnn from scratch and vgg19 ,we found that the person is Uninfected by Malaria disease."
   ]
  },
  {
   "cell_type": "code",
   "execution_count": null,
   "id": "20d0aede",
   "metadata": {},
   "outputs": [],
   "source": []
  }
 ],
 "metadata": {
  "kernelspec": {
   "display_name": "Python 3 (ipykernel)",
   "language": "python",
   "name": "python3"
  },
  "language_info": {
   "codemirror_mode": {
    "name": "ipython",
    "version": 3
   },
   "file_extension": ".py",
   "mimetype": "text/x-python",
   "name": "python",
   "nbconvert_exporter": "python",
   "pygments_lexer": "ipython3",
   "version": "3.9.12"
  }
 },
 "nbformat": 4,
 "nbformat_minor": 5
}
